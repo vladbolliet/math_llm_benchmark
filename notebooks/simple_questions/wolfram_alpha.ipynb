{
 "cells": [
  {
   "cell_type": "code",
   "execution_count": 5,
   "id": "349e1e30-1555-46bd-9390-7e8c3eb2a90c",
   "metadata": {},
   "outputs": [
    {
     "name": "stdout",
     "output_type": "stream",
     "text": [
      "integral_0^∞ (sin(x^2))/x dx = π/4≈0.785398\n"
     ]
    }
   ],
   "source": [
    "# WolframAlpha API\n",
    "\n",
    "import nest_asyncio # for using wolframalpha inside jupyter notebooks\n",
    "import wolframalpha\n",
    "\n",
    "nest_asyncio.apply()\n",
    "\n",
    "wolframalpha_app_id = \"P4V7V6-U9AJH3W4UW\"\n",
    "client = wolframalpha.Client(wolframalpha_app_id)\n",
    "\n",
    "def get_wolframalpha_result(question: str):\n",
    "    res = client.query(question)\n",
    "    return next(res.results).text\n",
    "\n",
    "q1 = r\"\"\"\n",
    "integral from 0 to infinity of sin(x^2)/x\n",
    "\"\"\"\n",
    "\n",
    "print(get_wolframalpha_result(q1))"
   ]
  },
  {
   "cell_type": "code",
   "execution_count": 6,
   "id": "d0c65609-82d1-4bc4-b538-5359a47fdb6f",
   "metadata": {},
   "outputs": [
    {
     "name": "stdout",
     "output_type": "stream",
     "text": [
      "x = 1 and y = 1 and z = 1\n"
     ]
    }
   ],
   "source": [
    "q1 = r\"\"\"\n",
    "solve 1*x + 2*y - z = 2, 3*x + 4*z = 7, x - y = 0, y - z = 0\n",
    "\"\"\"\n",
    "\n",
    "print(get_wolframalpha_result(q1))"
   ]
  },
  {
   "cell_type": "code",
   "execution_count": 7,
   "id": "061b1063-4a2b-4ecc-97fc-669df60627d9",
   "metadata": {},
   "outputs": [
    {
     "name": "stdout",
     "output_type": "stream",
     "text": [
      "lim_(x->0) (sin(x) - x + x^3/6)/x^5 = 1/120\n"
     ]
    }
   ],
   "source": [
    "q1 = r\"\"\"\n",
    "limit when x approaches 0 of (sinx-x+x^3/6)/x^5\n",
    "\"\"\"\n",
    "\n",
    "print(get_wolframalpha_result(q1))"
   ]
  },
  {
   "cell_type": "code",
   "execution_count": 8,
   "id": "20719e05-080c-438a-8451-7c6309f0484a",
   "metadata": {},
   "outputs": [
    {
     "name": "stdout",
     "output_type": "stream",
     "text": [
      "integral_0^∞ cos(x^3) dx = Γ(1/3)/(2 sqrt(3))≈0.773343\n"
     ]
    }
   ],
   "source": [
    "q1 = r\"\"\"\n",
    "integral from 0 to infinity of cos(x^3)\n",
    "\"\"\"\n",
    "\n",
    "print(get_wolframalpha_result(q1))"
   ]
  },
  {
   "cell_type": "code",
   "execution_count": 10,
   "id": "961ff23d-08fa-40c2-917b-963147290b1c",
   "metadata": {},
   "outputs": [
    {
     "name": "stdout",
     "output_type": "stream",
     "text": [
      "y(x) = c_1 e^(-3 x) + c_2 - x^3/9 + (5 x^2)/18 + (4 x)/27\n"
     ]
    }
   ],
   "source": [
    "q1 = r\"\"\"\n",
    "y'' + 3y' + x^2 = x+1\n",
    "\"\"\"\n",
    "\n",
    "print(get_wolframalpha_result(q1))"
   ]
  },
  {
   "cell_type": "code",
   "execution_count": null,
   "id": "b9b12631-609b-42fd-b217-97546189d9da",
   "metadata": {},
   "outputs": [],
   "source": []
  }
 ],
 "metadata": {
  "kernelspec": {
   "display_name": "Python (cmbagent_env)",
   "language": "python",
   "name": "cmbagent_env"
  },
  "language_info": {
   "codemirror_mode": {
    "name": "ipython",
    "version": 3
   },
   "file_extension": ".py",
   "mimetype": "text/x-python",
   "name": "python",
   "nbconvert_exporter": "python",
   "pygments_lexer": "ipython3",
   "version": "3.12.3"
  }
 },
 "nbformat": 4,
 "nbformat_minor": 5
}

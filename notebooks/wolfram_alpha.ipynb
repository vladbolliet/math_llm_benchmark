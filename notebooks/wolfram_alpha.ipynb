{
 "cells": [
  {
   "cell_type": "code",
   "execution_count": 7,
   "id": "01f5458f-6c86-4bb3-8bfd-2bd58253d2b8",
   "metadata": {},
   "outputs": [
    {
     "name": "stdout",
     "output_type": "stream",
     "text": [
      "6 sec(3) + 1/4 (x - 3) (11 + 24 tan(3)) sec(3) + O((x - 3)^2)\n",
      "(Taylor series)\n"
     ]
    }
   ],
   "source": [
    "# WolframAlpha API\n",
    "\n",
    "import nest_asyncio # for using wolframalpha inside jupyter notebooks\n",
    "import wolframalpha\n",
    "\n",
    "nest_asyncio.apply()\n",
    "\n",
    "wolframalpha_app_id = \"P4V7V6-U9AJH3W4UW\"\n",
    "client = wolframalpha.Client(wolframalpha_app_id)\n",
    "\n",
    "def get_wolframalpha_result(question: str):\n",
    "    res = client.query(question)\n",
    "    return next(res.results).text\n",
    "\n",
    "# same questions as in ask_q.ipynb\n",
    "\n",
    "q1 = r\"\"\"\n",
    "integral from 1 to 2 of (x+x^2)/x^4\n",
    "\"\"\"\n",
    "\n",
    "q2 = r\"\"\"\n",
    "Taylor series of sqrt(1+x)*(x/cos(x)) at x=3 up to order 1\n",
    "\"\"\"\n",
    "\n",
    "print(get_wolframalpha_result(q1))\n",
    "print(get_wolframalpha_result(q2))"
   ]
  },
  {
   "cell_type": "code",
   "execution_count": null,
   "id": "8a605e19-85f4-469b-99d9-ba258e997a61",
   "metadata": {},
   "outputs": [],
   "source": [
    "# CORRECT"
   ]
  }
 ],
 "metadata": {
  "kernelspec": {
   "display_name": "Python (cmbagent_env)",
   "language": "python",
   "name": "cmbagent_env"
  },
  "language_info": {
   "codemirror_mode": {
    "name": "ipython",
    "version": 3
   },
   "file_extension": ".py",
   "mimetype": "text/x-python",
   "name": "python",
   "nbconvert_exporter": "python",
   "pygments_lexer": "ipython3",
   "version": "3.12.3"
  }
 },
 "nbformat": 4,
 "nbformat_minor": 5
}
